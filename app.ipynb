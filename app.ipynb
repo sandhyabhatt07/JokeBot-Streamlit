{
 "cells": [
  {
   "cell_type": "code",
   "execution_count": null,
   "id": "72a17e32-781f-426a-8ff2-a549267b2c7e",
   "metadata": {},
   "outputs": [],
   "source": [
    "import streamlit as st\n",
    "import requests\n",
    "\n",
    "# Set the API URL (Change this to your Flowise API)\n",
    "API_URL = \"http://localhost:3000/canvas/4af4e932-2018-459e-9597-cd6ec09c5652\"  \n",
    "\n",
    "st.set_page_config(page_title=\"JokeBot 🤖\", layout=\"centered\")\n",
    "\n",
    "st.title(\"🤣 JokeBot - AI Joke Generator(MemoryLess Chatbot 🤖\")\n",
    "st.write(\"Ask me for a joke about any topic, and I'll make you laugh!\")\n",
    "\n",
    "# User input\n",
    "user_input = st.text_input(\"Enter a joke topic:\", \"\")\n",
    "\n",
    "if user_input:\n",
    "    # Send request to Flowise API\n",
    "    response = requests.post(API_URL, json={\"question\": user_input})\n",
    "\n",
    "    if response.status_code == 200:\n",
    "        joke = response.json().get(\"text\", \"Oops! Couldn't fetch a joke.\")\n",
    "        st.success(joke)\n",
    "    else:\n",
    "        st.error(\"Error fetching joke. Please try again.\")\n",
    "\n",
    "st.markdown(\"Created with ❤️ using Flowise & Streamlit\")\n"
   ]
  }
 ],
 "metadata": {
  "kernelspec": {
   "display_name": "Python 3 (ipykernel)",
   "language": "python",
   "name": "python3"
  },
  "language_info": {
   "codemirror_mode": {
    "name": "ipython",
    "version": 3
   },
   "file_extension": ".py",
   "mimetype": "text/x-python",
   "name": "python",
   "nbconvert_exporter": "python",
   "pygments_lexer": "ipython3",
   "version": "3.11.7"
  }
 },
 "nbformat": 4,
 "nbformat_minor": 5
}
